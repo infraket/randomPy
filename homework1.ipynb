{
 "cells": [
  {
   "cell_type": "code",
   "execution_count": 110,
   "id": "ed7179ae",
   "metadata": {},
   "outputs": [],
   "source": [
    "import re\n",
    "import socket\n",
    "import math\n",
    "import itertools    "
   ]
  },
  {
   "cell_type": "markdown",
   "id": "02a01db5",
   "metadata": {},
   "source": [
    "**Задача №1**"
   ]
  },
  {
   "cell_type": "code",
   "execution_count": 179,
   "id": "867d3edd",
   "metadata": {},
   "outputs": [],
   "source": [
    "def domain_name(url):\n",
    "    return re.search('(https?://)?(www\\d?\\.)?(?P<name>[\\w-]+)\\.', url).group('name')"
   ]
  },
  {
   "cell_type": "code",
   "execution_count": 112,
   "id": "e6f628ad",
   "metadata": {},
   "outputs": [
    {
     "data": {
      "text/plain": [
       "'xakep'"
      ]
     },
     "execution_count": 112,
     "metadata": {},
     "output_type": "execute_result"
    }
   ],
   "source": [
    "domain_name('www.xakep.ru')\n",
    "\n"
   ]
  },
  {
   "cell_type": "code",
   "execution_count": 113,
   "id": "6bdd24c0",
   "metadata": {},
   "outputs": [],
   "source": [
    "assert domain_name(\"http://google.com\") == \"google\"\n",
    "assert domain_name(\"http://google.co.jp\") == \"google\"\n",
    "assert domain_name(\"www.xakep.ru\") == \"xakep\"\n",
    "assert domain_name(\"https://youtube.com\") == \"youtube\""
   ]
  },
  {
   "cell_type": "markdown",
   "id": "04969bbb",
   "metadata": {},
   "source": [
    "**Задача №2**"
   ]
  },
  {
   "cell_type": "code",
   "execution_count": 114,
   "id": "544a70b6",
   "metadata": {},
   "outputs": [],
   "source": [
    "def int32_to_ip(int32):\n",
    "    \n",
    "    bin = f'{int32:b}'.rjust(32, '0')\n",
    "    return '.'.join([str(int(bin[idx:idx + 8], 2)) for idx in range(0, len(bin), 8)])\n",
    "    \n"
   ]
  },
  {
   "cell_type": "code",
   "execution_count": 115,
   "id": "428f05a4",
   "metadata": {},
   "outputs": [
    {
     "data": {
      "text/plain": [
       "'0.0.0.0'"
      ]
     },
     "execution_count": 115,
     "metadata": {},
     "output_type": "execute_result"
    }
   ],
   "source": [
    "int32_to_ip(0)"
   ]
  },
  {
   "cell_type": "code",
   "execution_count": 116,
   "id": "510ac0fe",
   "metadata": {},
   "outputs": [],
   "source": [
    "assert int32_to_ip(2154959208) == \"128.114.17.104\"\n",
    "assert int32_to_ip(0) == \"0.0.0.0\"\n",
    "assert int32_to_ip(2149583361) == \"128.32.10.1\"\n"
   ]
  },
  {
   "cell_type": "markdown",
   "id": "f0f97cbc",
   "metadata": {},
   "source": [
    "**Задача №3**"
   ]
  },
  {
   "cell_type": "code",
   "execution_count": 117,
   "id": "4ce9ad63",
   "metadata": {},
   "outputs": [],
   "source": [
    "def zeros(n):\n",
    "    i = 5\n",
    "    zero = 0\n",
    "    while n >= i:\n",
    "        zero += n // i\n",
    "        i *= 5\n",
    "    return zero\n",
    "\n"
   ]
  },
  {
   "cell_type": "code",
   "execution_count": 118,
   "id": "889389be",
   "metadata": {},
   "outputs": [
    {
     "data": {
      "text/plain": [
       "249"
      ]
     },
     "execution_count": 118,
     "metadata": {},
     "output_type": "execute_result"
    }
   ],
   "source": [
    "zeros(1000)"
   ]
  },
  {
   "cell_type": "code",
   "execution_count": 44,
   "id": "8f3abd31",
   "metadata": {},
   "outputs": [],
   "source": [
    "assert zeros(0) == 0\n",
    "assert zeros(6) == 1\n",
    "assert zeros(30) == 7"
   ]
  },
  {
   "cell_type": "markdown",
   "id": "19372bfa",
   "metadata": {},
   "source": [
    "**Задача №4**"
   ]
  },
  {
   "cell_type": "code",
   "execution_count": 53,
   "id": "36304b7d",
   "metadata": {},
   "outputs": [],
   "source": [
    "text = \"bbananana\"\n",
    "substring = \"banana\"\n",
    "total_occurrences = text.count(substring)"
   ]
  },
  {
   "cell_type": "code",
   "execution_count": 54,
   "id": "cc1126df",
   "metadata": {},
   "outputs": [
    {
     "data": {
      "text/plain": [
       "1"
      ]
     },
     "execution_count": 54,
     "metadata": {},
     "output_type": "execute_result"
    }
   ],
   "source": [
    "total_occurrences"
   ]
  },
  {
   "cell_type": "code",
   "execution_count": 106,
   "id": "62b0425e",
   "metadata": {},
   "outputs": [],
   "source": [
    "def bananas(s):\n",
    "    result = set()\n",
    "\n",
    "    for i in itertools.combinations(range(len(s)), len(s) - 6):\n",
    "        arr = list(s)\n",
    "\n",
    "        for j in i:\n",
    "            arr[j] = '-'\n",
    "\n",
    "        banan = ''.join(arr)\n",
    "\n",
    "        if banan.replace('-', '') == 'banana':\n",
    "            result.add(banan)\n",
    "\n",
    "    return result\n"
   ]
  },
  {
   "cell_type": "code",
   "execution_count": 108,
   "id": "8daa7501",
   "metadata": {},
   "outputs": [
    {
     "data": {
      "text/plain": [
       "set()"
      ]
     },
     "execution_count": 108,
     "metadata": {},
     "output_type": "execute_result"
    }
   ],
   "source": [
    "bananas(\"banannn\")"
   ]
  },
  {
   "cell_type": "code",
   "execution_count": 109,
   "id": "55b40cfe",
   "metadata": {},
   "outputs": [],
   "source": [
    "assert bananas(\"banann\") == set()\n",
    "assert bananas(\"bbananana\") == {\"b-an--ana\", \"-banana--\", \"-b--anana\", \"b-a--nana\", \"-banan--a\",\n",
    "                     \"b-ana--na\", \"b---anana\", \"-bana--na\", \"-ba--nana\", \"b-anan--a\",\n",
    "                     \"-ban--ana\", \"b-anana--\"}\n",
    "assert bananas(\"bananaaa\") == {\"banan-a-\", \"banana--\", \"banan--a\"}\n",
    "assert bananas(\"bananana\") == {\"ban--ana\", \"ba--nana\", \"bana--na\", \"b--anana\", \"banana--\", \"banan--a\"}\n"
   ]
  },
  {
   "cell_type": "markdown",
   "id": "5b72c3b3",
   "metadata": {},
   "source": [
    "**Задача №5**"
   ]
  },
  {
   "cell_type": "code",
   "execution_count": 174,
   "id": "b290d9e6",
   "metadata": {},
   "outputs": [],
   "source": [
    "primesL = [2, 5, 7]\n",
    "limit = 500\n",
    "def count_find_num(primesL, limit):\n",
    "    base = eval( '*'.join( map(str, primesL) ) )\n",
    "    \n",
    "    if base > limit:\n",
    "        return []\n",
    "    \n",
    "    results = [base]\n",
    "    \n",
    "    for p in primesL:\n",
    "        for num in results:\n",
    "            num *= p\n",
    "            while num not in results and num <= limit:\n",
    "                results += [num]\n",
    "                num *= p\n",
    "    \n",
    "    return [ len(results), max(results) ] \n",
    "    \n",
    "           \n",
    "        \n",
    "        \n",
    "    \n",
    "    \n",
    "    \n",
    "    \n",
    "    \n",
    "    \n",
    "    \n"
   ]
  },
  {
   "cell_type": "code",
   "execution_count": 178,
   "id": "1a34b7f5",
   "metadata": {},
   "outputs": [
    {
     "data": {
      "text/plain": [
       "[5, 490]"
      ]
     },
     "execution_count": 178,
     "metadata": {},
     "output_type": "execute_result"
    }
   ],
   "source": [
    "count_find_num(primesL, limit)\n"
   ]
  },
  {
   "cell_type": "code",
   "execution_count": 172,
   "id": "edef3cd0",
   "metadata": {},
   "outputs": [],
   "source": [
    "primesL = [2, 3]\n",
    "limit = 200\n",
    "assert count_find_num(primesL, limit) == [13, 192]\n",
    "\n",
    "primesL = [2, 5]\n",
    "limit = 200\n",
    "assert count_find_num(primesL, limit) == [8, 200]\n",
    "\n",
    "primesL = [2, 3, 5]\n",
    "limit = 500\n",
    "assert count_find_num(primesL, limit) == [12, 480]\n",
    "\n",
    "primesL = [2, 3, 5]\n",
    "limit = 1000\n",
    "assert count_find_num(primesL, limit) == [19, 960]\n",
    "\n",
    "primesL = [2, 3, 47]\n",
    "limit = 200\n",
    "assert count_find_num(primesL, limit) == []\n"
   ]
  }
 ],
 "metadata": {
  "kernelspec": {
   "display_name": "Python 3 (ipykernel)",
   "language": "python",
   "name": "python3"
  },
  "language_info": {
   "codemirror_mode": {
    "name": "ipython",
    "version": 3
   },
   "file_extension": ".py",
   "mimetype": "text/x-python",
   "name": "python",
   "nbconvert_exporter": "python",
   "pygments_lexer": "ipython3",
   "version": "3.9.7"
  }
 },
 "nbformat": 4,
 "nbformat_minor": 5
}
