{
 "cells": [
  {
   "cell_type": "markdown",
   "id": "5c9d61e2",
   "metadata": {},
   "source": [
    "1. Задача на циклический итератор"
   ]
  },
  {
   "cell_type": "code",
   "execution_count": 1,
   "id": "a1100b0b",
   "metadata": {},
   "outputs": [],
   "source": [
    "from itertools import cycle\n",
    "from dataclasses import dataclass\n",
    "from datetime import datetime,timedelta\n",
    "from typing import Generator, List, Tuple\n",
    "import pandas as pd"
   ]
  },
  {
   "cell_type": "code",
   "execution_count": 2,
   "id": "8e8032ff",
   "metadata": {},
   "outputs": [],
   "source": [
    "class CyclicIterator():\n",
    "    def __init__(self, data):\n",
    "        \n",
    "        self.pool = cycle(data)\n",
    "    def __iter__(self):\n",
    "        return self\n",
    "    def __next__(self):\n",
    "        for connection in self.pool:\n",
    "            return connection\n",
    "            \n",
    "            \n",
    "                \n",
    "    \n"
   ]
  },
  {
   "cell_type": "code",
   "execution_count": 3,
   "id": "ebb07796",
   "metadata": {},
   "outputs": [],
   "source": [
    "cyclic_iterator = CyclicIterator(range(2))"
   ]
  },
  {
   "cell_type": "code",
   "execution_count": null,
   "id": "c65a2d86",
   "metadata": {},
   "outputs": [],
   "source": [
    "for i in cyclic_iterator:\n",
    "    print(i)"
   ]
  },
  {
   "cell_type": "markdown",
   "id": "45d72f89",
   "metadata": {},
   "source": [
    "2. Задача на разжатие массива"
   ]
  },
  {
   "cell_type": "code",
   "execution_count": 9,
   "id": "7988a2eb",
   "metadata": {},
   "outputs": [],
   "source": [
    "@dataclass\n",
    "class Movie:\n",
    "    title: str\n",
    "    dates: List[Tuple[datetime, datetime]]\n",
    "\n",
    "    def schedule(self) -> Generator[datetime, None, None]:\n",
    "        a = pd.date_range(self.dates[0][0],self.dates[0][1]).tolist()\n",
    "        b = pd.date_range(self.dates[1][0],self.dates[1][1]).tolist()\n",
    "        return a + b\n"
   ]
  },
  {
   "cell_type": "markdown",
   "id": "a758ee29",
   "metadata": {},
   "source": [
    "or"
   ]
  },
  {
   "cell_type": "code",
   "execution_count": 6,
   "id": "4812ddb1",
   "metadata": {},
   "outputs": [],
   "source": [
    "@dataclass\n",
    "class Movie_two:\n",
    "    title: str\n",
    "    dates: List[Tuple[datetime, datetime]]\n",
    "\n",
    "    def schedule(self) -> Generator[datetime, None, None]:\n",
    "        for date_range in self.dates:\n",
    "            start_date = date_range[0]\n",
    "            end_date = date_range[1]\n",
    "            \n",
    "            while start_date <= end_date:\n",
    "                yield start_date\n",
    "                start_date += timedelta(days=1)"
   ]
  },
  {
   "cell_type": "code",
   "execution_count": 10,
   "id": "9516154a",
   "metadata": {},
   "outputs": [],
   "source": [
    "m = Movie('sw', [\n",
    "  (datetime(2020, 1, 1), datetime(2020, 1, 7)),\n",
    "  (datetime(2020, 1, 15), datetime(2020, 2, 7))\n",
    "])\n",
    "\n"
   ]
  },
  {
   "cell_type": "code",
   "execution_count": 11,
   "id": "d2edefb0",
   "metadata": {},
   "outputs": [
    {
     "name": "stdout",
     "output_type": "stream",
     "text": [
      "2020-01-01 00:00:00\n",
      "2020-01-02 00:00:00\n",
      "2020-01-03 00:00:00\n",
      "2020-01-04 00:00:00\n",
      "2020-01-05 00:00:00\n",
      "2020-01-06 00:00:00\n",
      "2020-01-07 00:00:00\n",
      "2020-01-15 00:00:00\n",
      "2020-01-16 00:00:00\n",
      "2020-01-17 00:00:00\n",
      "2020-01-18 00:00:00\n",
      "2020-01-19 00:00:00\n",
      "2020-01-20 00:00:00\n",
      "2020-01-21 00:00:00\n",
      "2020-01-22 00:00:00\n",
      "2020-01-23 00:00:00\n",
      "2020-01-24 00:00:00\n",
      "2020-01-25 00:00:00\n",
      "2020-01-26 00:00:00\n",
      "2020-01-27 00:00:00\n",
      "2020-01-28 00:00:00\n",
      "2020-01-29 00:00:00\n",
      "2020-01-30 00:00:00\n",
      "2020-01-31 00:00:00\n",
      "2020-02-01 00:00:00\n",
      "2020-02-02 00:00:00\n",
      "2020-02-03 00:00:00\n",
      "2020-02-04 00:00:00\n",
      "2020-02-05 00:00:00\n",
      "2020-02-06 00:00:00\n",
      "2020-02-07 00:00:00\n"
     ]
    }
   ],
   "source": [
    "for i in m.schedule():\n",
    "    print(i)\n",
    "    "
   ]
  },
  {
   "cell_type": "code",
   "execution_count": null,
   "id": "f323306d",
   "metadata": {},
   "outputs": [],
   "source": []
  }
 ],
 "metadata": {
  "kernelspec": {
   "display_name": "Python 3 (ipykernel)",
   "language": "python",
   "name": "python3"
  },
  "language_info": {
   "codemirror_mode": {
    "name": "ipython",
    "version": 3
   },
   "file_extension": ".py",
   "mimetype": "text/x-python",
   "name": "python",
   "nbconvert_exporter": "python",
   "pygments_lexer": "ipython3",
   "version": "3.9.7"
  }
 },
 "nbformat": 4,
 "nbformat_minor": 5
}
