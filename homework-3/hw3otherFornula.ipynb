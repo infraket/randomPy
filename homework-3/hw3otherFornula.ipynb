{
 "cells": [
  {
   "cell_type": "code",
   "execution_count": 2,
   "id": "9b657f18",
   "metadata": {},
   "outputs": [],
   "source": [
    "from functools import wraps\n",
    "import time\n"
   ]
  },
  {
   "cell_type": "markdown",
   "id": "b1abffec",
   "metadata": {},
   "source": [
    "hw3 Задача 1"
   ]
  },
  {
   "cell_type": "code",
   "execution_count": 2,
   "id": "cb8b13de",
   "metadata": {},
   "outputs": [],
   "source": [
    "def cache(func):\n",
    "    \n",
    "    \n",
    "    @wraps(func)\n",
    "    \n",
    "    def wrapper(*args, **kwargs):\n",
    "        \n",
    "        \n",
    "        \n",
    "        cache_key = args + tuple(kwargs.items())\n",
    "\n",
    "        if cache_key not in wrapper.cache:\n",
    "            wrapper.cache[cache_key] = func(*args, **kwargs)\n",
    "            \n",
    "            \n",
    "        \n",
    "        return wrapper.cache[cache_key]\n",
    "\n",
    "    wrapper.cache = dict()\n",
    "    \n",
    "    \n",
    "    return wrapper"
   ]
  },
  {
   "cell_type": "code",
   "execution_count": 3,
   "id": "12478b1b",
   "metadata": {},
   "outputs": [],
   "source": [
    "@cache \n",
    "def multiplier(number: int):\n",
    "    \n",
    "    return number * 2"
   ]
  },
  {
   "cell_type": "code",
   "execution_count": 4,
   "id": "23c18bd1",
   "metadata": {},
   "outputs": [
    {
     "data": {
      "text/plain": [
       "10"
      ]
     },
     "execution_count": 4,
     "metadata": {},
     "output_type": "execute_result"
    }
   ],
   "source": [
    "multiplier(5)"
   ]
  },
  {
   "cell_type": "code",
   "execution_count": 5,
   "id": "b6fb1cc6",
   "metadata": {},
   "outputs": [
    {
     "data": {
      "text/plain": [
       "10"
      ]
     },
     "execution_count": 5,
     "metadata": {},
     "output_type": "execute_result"
    }
   ],
   "source": [
    "multiplier(5)"
   ]
  },
  {
   "cell_type": "markdown",
   "id": "631c806c",
   "metadata": {},
   "source": [
    "hw3 Задача 2"
   ]
  },
  {
   "cell_type": "code",
   "execution_count": 6,
   "id": "ec322c25",
   "metadata": {},
   "outputs": [],
   "source": [
    "def repeat(call_count,start_sleep_time,factor,border_sleep_time):\n",
    "    ''' Повторяет выполнение функции заданное количество раз\n",
    "    '''\n",
    "    \n",
    "    def decorator(func):\n",
    "        wraps(func)\n",
    "        \n",
    "        def wrapper(*args, **kwargs):\n",
    "            print(f'Кол-во запусков = {call_count}')\n",
    "            print('Начало работы')\n",
    "            for i in range(1,call_count+1):\n",
    "                t = start_sleep_time\n",
    "                if t < border_sleep_time:\n",
    "                    t = start_sleep_time * (2**(factor))\n",
    "                if t >= border_sleep_time:\n",
    "                    t = border_sleep_time\n",
    "                value = func(*args, **kwargs)\n",
    "                time.sleep(t)\n",
    "                print(f'Запуск номер {i}. Ожидание: {t} секунд. Результат декорируемой функций = {value}.')\n",
    "                \n",
    "            return print('Конец работы')\n",
    "        return wrapper\n",
    "    return decorator\n",
    "\n",
    "    "
   ]
  },
  {
   "cell_type": "code",
   "execution_count": 7,
   "id": "15c2caae",
   "metadata": {},
   "outputs": [],
   "source": [
    "@repeat(2,1,3,20)\n",
    "def multiplier(number: int):\n",
    "    \n",
    "    return number * 2"
   ]
  },
  {
   "cell_type": "code",
   "execution_count": 8,
   "id": "6b45bcea",
   "metadata": {},
   "outputs": [
    {
     "name": "stdout",
     "output_type": "stream",
     "text": [
      "Кол-во запусков = 2\n",
      "Начало работы\n",
      "Запуск номер 1. Ожидание: 8 секунд. Результат декорируемой функций = 10.\n",
      "Запуск номер 2. Ожидание: 8 секунд. Результат декорируемой функций = 10.\n",
      "Конец работы\n"
     ]
    }
   ],
   "source": [
    "multiplier(5)"
   ]
  },
  {
   "cell_type": "markdown",
   "id": "a571ec46",
   "metadata": {},
   "source": [
    "если другая формула:"
   ]
  },
  {
   "cell_type": "code",
   "execution_count": 10,
   "id": "58b5b274",
   "metadata": {},
   "outputs": [],
   "source": [
    "def repeat(call_count,start_sleep_time,factor,border_sleep_time):\n",
    "    ''' Повторяет выполнение функции заданное количество раз\n",
    "    '''\n",
    "\n",
    "\n",
    "    def decorator(func):\n",
    "        @wraps(func)\n",
    "        def wrapper(*args, **kwargs):\n",
    "            print(f'Кол-во запусков = {call_count}')\n",
    "            print('Начало работы')\n",
    "            for i in range(1,call_count+1):\n",
    "                value = func(*args, **kwargs)\n",
    "                t = start_sleep_time * factor ** i\n",
    "                if t >= border_sleep_time:\n",
    "                    t = border_sleep_time\n",
    "                print(f'Запуск номер {i}. Ожидание: {t} секунд. Результат декорируемой функций = {value}.')\n",
    "                time.sleep(t)\n",
    "            print('Конец работы')\n",
    "        return wrapper\n",
    "    return decorator"
   ]
  },
  {
   "cell_type": "code",
   "execution_count": 14,
   "id": "08150d51",
   "metadata": {},
   "outputs": [],
   "source": [
    "@repeat(4, 2, 2, 20)\n",
    "def multiplier(number: int):\n",
    "    return number * 2"
   ]
  },
  {
   "cell_type": "code",
   "execution_count": 15,
   "id": "1ea142db",
   "metadata": {},
   "outputs": [
    {
     "name": "stdout",
     "output_type": "stream",
     "text": [
      "Кол-во запусков = 4\n",
      "Начало работы\n",
      "Запуск номер 1. Ожидание: 4 секунд. Результат декорируемой функций = 10.\n",
      "Запуск номер 2. Ожидание: 8 секунд. Результат декорируемой функций = 10.\n",
      "Запуск номер 3. Ожидание: 16 секунд. Результат декорируемой функций = 10.\n",
      "Запуск номер 4. Ожидание: 20 секунд. Результат декорируемой функций = 10.\n",
      "Конец работы\n"
     ]
    }
   ],
   "source": [
    "multiplier(5)"
   ]
  },
  {
   "cell_type": "code",
   "execution_count": null,
   "id": "1f6e5ade",
   "metadata": {},
   "outputs": [],
   "source": []
  }
 ],
 "metadata": {
  "kernelspec": {
   "display_name": "Python 3 (ipykernel)",
   "language": "python",
   "name": "python3"
  },
  "language_info": {
   "codemirror_mode": {
    "name": "ipython",
    "version": 3
   },
   "file_extension": ".py",
   "mimetype": "text/x-python",
   "name": "python",
   "nbconvert_exporter": "python",
   "pygments_lexer": "ipython3",
   "version": "3.9.7"
  }
 },
 "nbformat": 4,
 "nbformat_minor": 5
}
